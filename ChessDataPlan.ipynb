{
 "cells": [
  {
   "cell_type": "markdown",
   "metadata": {},
   "source": [
    "# Phase II: Data Curation, Exploratory Analysis and Plotting\n",
    "## What makes someone good at chess?\n",
    "\n",
    "- Sandeep Salwan\n",
    "- Andrew Fielding\n",
    "- QuangVinh Tran"
   ]
  },
  {
   "cell_type": "markdown",
   "metadata": {},
   "source": [
    "## Project Goal:"
   ]
  },
  {
   "cell_type": "markdown",
   "metadata": {},
   "source": [
    "Chess is a global strategy game played by all, from children to the elderly, with countless openings, tactics, and playstyles that all influence the outcome of the match. Many dedicated chess players hone in on these aspects while reviewing past games or studying the professionals in search of improvement. However, what if the strategies employed are not the best fit for a given rank and/or playstyle? With the wealth of data available by APIs such as Lichess and Stockfish API, this project seeks to understand the effectiveness of various openings, playstyles (such as aggressive vs. passive), and common tactics at various ranks to provide users of all skill levels with applicable information to help improve their game. Additionally, with the rise of chess.com, chess can be played online with players being matched to those of similar ranking; however, not every match will be evenly set resulting in a potential skill advantage to the higher-ranked player. This study aims to explore 2 key questions:\n",
    "1. Which chess openings and playstyles lead to higher win percentages across different rank levels?\n",
    "2. How does the rating differential impact the outcome of a match?\n"
   ]
  },
  {
   "cell_type": "markdown",
   "metadata": {},
   "source": [
    "## Pipeline Overview:"
   ]
  },
  {
   "cell_type": "markdown",
   "metadata": {},
   "source": [
    "**1. Data Collection** - Fetch player data from the **Lichess API**: usernames, game details, ratings, moves, and openings.\n",
    "\n",
    "**2. Data Processing** - Clean up the raw data: extract openings, check game outcomes, calculate rating differences, and handle missing info.\n",
    "\n",
    "**3. Data Analysis** - Look at win rates: figure out which **openings** and **playstyles** work best at different ranks, and how **rating gaps** affect match results.\n",
    "\n",
    "**4. Data Export** - Save the cleaned data into a **CSV** for easy analysis and reporting.\n"
   ]
  },
  {
   "cell_type": "markdown",
   "metadata": {},
   "source": [
    "### Pipeline:"
   ]
  },
  {
   "cell_type": "markdown",
   "metadata": {},
   "source": [
    "#### 0. Imports"
   ]
  },
  {
   "cell_type": "code",
   "execution_count": null,
   "metadata": {},
   "outputs": [],
   "source": [
    "# Install required libraries\n",
    "%pip install berserk pandas chess stockfish matplotlib seaborn"
   ]
  },
  {
   "cell_type": "code",
   "execution_count": 3,
   "metadata": {},
   "outputs": [],
   "source": [
    "import berserk\n",
    "import pandas as pd\n",
    "import chess.pgn\n",
    "from io import StringIO\n",
    "from stockfish import Stockfish\n",
    "import chess\n",
    "import chess.polyglot\n",
    "import chess.engine\n",
    "from chess import pgn\n",
    "import matplotlib.pyplot as plt\n",
    "import seaborn as sns\n",
    "from lichess_secret import token\n",
    "session = berserk.TokenSession(token)\n",
    "client = berserk.Client(session=session)\n"
   ]
  },
  {
   "cell_type": "code",
   "execution_count": null,
   "metadata": {},
   "outputs": [],
   "source": [
    "# ---------------------------\n",
    "# Step 1: Set Token\n",
    "# ---------------------------\n",
    "\n",
    "token = \"lip_3ux7YvAOCe5o3Sg3YThR\"  # Your token\n",
    "\n",
    "if not token:\n",
    "    raise ValueError(\"No token.\")\n"
   ]
  },
  {
   "cell_type": "markdown",
   "metadata": {},
   "source": [
    "#### 2. Query generation API Code"
   ]
  },
  {
   "cell_type": "code",
   "execution_count": null,
   "metadata": {},
   "outputs": [],
   "source": [
    "# ---------------------------\n",
    "# Step 2: Init Client\n",
    "# ---------------------------\n",
    "\n",
    "session = berserk.TokenSession(token)\n",
    "client = berserk.Client(session=session)\n"
   ]
  },
  {
   "cell_type": "code",
   "execution_count": null,
   "metadata": {},
   "outputs": [],
   "source": [
    "# ---------------------------\n",
    "# Step 3: Fetch Players\n",
    "# ---------------------------\n",
    "\n",
    "def get_top_players(perf='blitz', cnt=100):\n",
    "    try:\n",
    "        lb = client.users.get_leaderboard(perf_type=perf, count=cnt)  # leaderboard\n",
    "        return [user['username'] for user in lb]  # names\n",
    "    except berserk.exceptions.ResponseError as e:\n",
    "        print(f\"Error: {e}\")\n",
    "        return []  # return empty if error\n",
    "\n",
    "# perf types to fetch\n",
    "perf_types = {'blitz': 100, 'bullet': 100, 'rapid': 100, 'classic': 100}\n",
    "\n",
    "# collect all usernames\n",
    "all_users = set()\n",
    "for perf, cnt in perf_types.items():\n",
    "    users = get_top_players(perf, cnt)\n",
    "    all_users.update(users)\n",
    "    print(f\"Fetched {len(users)} {perf}\")\n",
    "\n",
    "print(f\"Total: {len(all_users)} users\")\n"
   ]
  },
  {
   "cell_type": "code",
   "execution_count": null,
   "metadata": {},
   "outputs": [],
   "source": [
    "# ---------------------------\n",
    "# Step 4: Helper Functions\n",
    "# ---------------------------\n",
    "\n",
    "# retry fetching games\n",
    "def get_games(username, max_games, retries=3, delay=5):\n",
    "    for attempt in range(retries):\n",
    "        try:\n",
    "            games = client.games.export_by_player(\n",
    "                username, max=max_games, perf_type='classical',\n",
    "                moves=True, opening=True)\n",
    "            return list(games)  # success\n",
    "        except berserk.exceptions.ResponseError as e:\n",
    "            if e.status_code == 429:  # limit hit\n",
    "                print(f\"Wait {delay} sec...\")\n",
    "                time.sleep(delay)\n",
    "            else:\n",
    "                print(f\"Error: {e}. Retry {attempt + 1}\")\n",
    "                time.sleep(delay)\n",
    "        except Exception as e:\n",
    "            print(f\"Error: {e}. Retry {attempt + 1}\")\n",
    "            time.sleep(delay)\n",
    "    return []  # fail\n",
    "\n",
    "# determine opening\n",
    "def get_opening(moves):\n",
    "    board = chess.Board()\n",
    "    for move in moves.split()[:20]:\n",
    "        try:\n",
    "            m = chess.Move.from_uci(move)\n",
    "            if m not in board.legal_moves:\n",
    "                break\n",
    "            board.push(m)\n",
    "            return chess.polyglot.opening_name(board)\n",
    "        except:\n",
    "            return \"Unknown\"\n",
    "    return \"Unknown\"\n"
   ]
  },
  {
   "cell_type": "code",
   "execution_count": null,
   "metadata": {},
   "outputs": [],
   "source": [
    "# ---------------------------\n",
    "# Step 5: Fetch & Process Games\n",
    "# ---------------------------\n",
    "\n",
    "max_games = 100\n",
    "sleep_time = 1  # seconds to wait\n",
    "\n",
    "all_data = []  # store game data\n",
    "print(\"Fetching games...\")\n",
    "\n",
    "for idx, user in enumerate(all_users):\n",
    "    print(f\"User {idx + 1}: {user}\")\n",
    "    games = get_games(user, max_games)\n",
    "    print(f\"Got {len(games)} games.\")\n",
    "\n",
    "    for game in games:\n",
    "        try:\n",
    "            white = game['players']['white'].get('user', {}).get('name', 'Anon')\n",
    "            white_rating = game['players']['white'].get('rating')\n",
    "            black = game['players']['black'].get('user', {}).get('name', 'Anon')\n",
    "            black_rating = game['players']['black'].get('rating')\n",
    "\n",
    "            game_id = game['id']\n",
    "            link = f\"https://lichess.org/{game_id}\"\n",
    "\n",
    "            opening = game.get('opening', {}).get('name', 'Unknown')\n",
    "            moves = game.get('moves', '')\n",
    "            if opening == 'Unknown':\n",
    "                opening = get_opening(moves)\n",
    "\n",
    "            winner = game.get('winner', 'draw')\n",
    "            move_count = len(moves.split())\n",
    "\n",
    "            all_data.append({\n",
    "                'game_id': game_id,\n",
    "                'white': white,\n",
    "                'white_rating': white_rating,\n",
    "                'black': black,\n",
    "                'black_rating': black_rating,\n",
    "                'opening': opening,\n",
    "                'winner': winner,\n",
    "                'moves': move_count,\n",
    "                'link': link\n",
    "            })\n",
    "        except Exception as e:\n",
    "            print(f\"Error in {game.get('id', 'Unknown')}: {e}\")\n",
    "\n",
    "    time.sleep(sleep_time)  # respect limits\n",
    "\n",
    "print(f\"Total games: {len(all_data)}\")\n"
   ]
  },
  {
   "cell_type": "code",
   "execution_count": null,
   "metadata": {},
   "outputs": [],
   "source": [
    "# ---------------------------\n",
    "# Step 6: Create DataFrame\n",
    "# ---------------------------\n",
    "\n",
    "df = pd.DataFrame(all_data)\n",
    "print(df.head())  # show first rows\n"
   ]
  },
  {
   "cell_type": "code",
   "execution_count": null,
   "metadata": {},
   "outputs": [],
   "source": [
    "# ---------------------------\n",
    "# Step 7: Export CSV\n",
    "# ---------------------------\n",
    "\n",
    "df.to_csv('lichess_games_data.csv', index=False)\n",
    "print(\"Exported to CSV.\")\n"
   ]
  },
  {
   "cell_type": "markdown",
   "metadata": {},
   "source": [
    "## Visualizations:"
   ]
  },
  {
   "cell_type": "markdown",
   "metadata": {},
   "source": [
    "## Analysis/ML Plan:"
   ]
  },
  {
   "cell_type": "markdown",
   "metadata": {},
   "source": [
    "The data visualization shows bias for Walmart-sponsored items in their search webpage, showing the sponsored items before the non-sponsored and place them in the beginning of each pages, placing non-sponsored items of similiar prices in later pages. This is a martketing stragety from Walmart to push the customers to buy more from their brand, however, the data showed that Walmart-sponsored products are more highly rated by customers. More analysis on the quality of the products could be done over further examination of customers' ratings.\n",
    "\n",
    "As for the ML Plan, we plan to use logarithmic regression as a binary classifier to be able to isolate each feature and study the magnitudes of each feature to analyse it effectively."
   ]
  },
  {
   "cell_type": "markdown",
   "metadata": {},
   "source": [
    "## Visualizations:"
   ]
  },
  {
   "cell_type": "markdown",
   "metadata": {},
   "source": [
    "## Analysis/ML Plan:"
   ]
  },
  {
   "cell_type": "markdown",
   "metadata": {},
   "source": [
    "Polynomial linear regression"
   ]
  },
  {
   "cell_type": "code",
   "execution_count": null,
   "metadata": {},
   "outputs": [],
   "source": []
  }
 ],
 "metadata": {
  "kernelspec": {
   "display_name": "Python 3",
   "language": "python",
   "name": "python3"
  },
  "language_info": {
   "codemirror_mode": {
    "name": "ipython",
    "version": 3
   },
   "file_extension": ".py",
   "mimetype": "text/x-python",
   "name": "python",
   "nbconvert_exporter": "python",
   "pygments_lexer": "ipython3",
   "version": "3.12.3"
  }
 },
 "nbformat": 4,
 "nbformat_minor": 2
}

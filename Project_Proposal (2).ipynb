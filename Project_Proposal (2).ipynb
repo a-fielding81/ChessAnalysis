{
 "cells": [
  {
   "cell_type": "markdown",
   "id": "8cbd8d62-7b25-4590-aa1e-1395ce8b5038",
   "metadata": {},
   "source": [
    "## Phase I Project Proposal\n",
    "### What factors make people win at chess?\n",
    "\n",
    "#### Name: Sandeep Salwan, DS 3000"
   ]
  },
  {
   "cell_type": "markdown",
   "id": "b18e839c-1ef4-4fe0-b2dc-a0cacbe3aa6c",
   "metadata": {},
   "source": [
    "### Introduction\n",
    "\n",
    "What contributes to a strong chess player? I will use the Lichess API to study what type of playstyle would make the best player.\n",
    "I will look at the following factors:\n",
    "\n",
    "1. **Opening Used**\n",
    "   - Create graph displaying opening win percentages.\n",
    "   - Recommend best openings for different game tendencies.\n",
    "\n",
    "2. **Playstyle**\n",
    "   - Discover which is better between aggressive and positional playstyle.\n",
    "   - Make graph displaying the best playstyle for every rating.\n",
    "   - Identify when specific playstyles are superior depending on game conditions.\n",
    "   - Determine aggressive tendencies through factors like early pawn advancement, piece sacrifices, opening used, and length of game. \n",
    "   \n",
    "\n",
    "3. **Most Frequently Used Tactics**\n",
    "   - Look at common tactics so that a chess player would know which ones to study more of. \n",
    "   - Analyze correlations between ratings and the use of particular tactics.\n",
    "\n",
    "This study will help beginners and professionals elevate their game."
   ]
  },
  {
   "cell_type": "code",
   "execution_count": 20,
   "id": "fcec718d",
   "metadata": {},
   "outputs": [
    {
     "name": "stdout",
     "output_type": "stream",
     "text": [
      "Requirement already satisfied: berserk in /Library/Frameworks/Python.framework/Versions/3.12/lib/python3.12/site-packages (0.13.2)\n",
      "Requirement already satisfied: deprecated<2.0.0,>=1.2.14 in /Library/Frameworks/Python.framework/Versions/3.12/lib/python3.12/site-packages (from berserk) (1.2.14)\n",
      "Requirement already satisfied: ndjson<0.4.0,>=0.3.1 in /Library/Frameworks/Python.framework/Versions/3.12/lib/python3.12/site-packages (from berserk) (0.3.1)\n",
      "Requirement already satisfied: python-dateutil<3.0.0,>=2.8.2 in /Library/Frameworks/Python.framework/Versions/3.12/lib/python3.12/site-packages (from berserk) (2.9.0.post0)\n",
      "Requirement already satisfied: requests<3.0.0,>=2.28.2 in /Library/Frameworks/Python.framework/Versions/3.12/lib/python3.12/site-packages (from berserk) (2.31.0)\n",
      "Requirement already satisfied: typing-extensions<5.0.0,>=4.7.1 in /Library/Frameworks/Python.framework/Versions/3.12/lib/python3.12/site-packages (from berserk) (4.12.2)\n",
      "Requirement already satisfied: wrapt<2,>=1.10 in /Library/Frameworks/Python.framework/Versions/3.12/lib/python3.12/site-packages (from deprecated<2.0.0,>=1.2.14->berserk) (1.16.0)\n",
      "Requirement already satisfied: six>=1.5 in /Library/Frameworks/Python.framework/Versions/3.12/lib/python3.12/site-packages (from python-dateutil<3.0.0,>=2.8.2->berserk) (1.16.0)\n",
      "Requirement already satisfied: charset-normalizer<4,>=2 in /Library/Frameworks/Python.framework/Versions/3.12/lib/python3.12/site-packages (from requests<3.0.0,>=2.28.2->berserk) (3.3.2)\n",
      "Requirement already satisfied: idna<4,>=2.5 in /Library/Frameworks/Python.framework/Versions/3.12/lib/python3.12/site-packages (from requests<3.0.0,>=2.28.2->berserk) (3.7)\n",
      "Requirement already satisfied: urllib3<3,>=1.21.1 in /Library/Frameworks/Python.framework/Versions/3.12/lib/python3.12/site-packages (from requests<3.0.0,>=2.28.2->berserk) (2.2.2)\n",
      "Requirement already satisfied: certifi>=2017.4.17 in /Library/Frameworks/Python.framework/Versions/3.12/lib/python3.12/site-packages (from requests<3.0.0,>=2.28.2->berserk) (2024.8.30)\n",
      "\n",
      "\u001b[1m[\u001b[0m\u001b[34;49mnotice\u001b[0m\u001b[1;39;49m]\u001b[0m\u001b[39;49m A new release of pip is available: \u001b[0m\u001b[31;49m24.1.2\u001b[0m\u001b[39;49m -> \u001b[0m\u001b[32;49m24.2\u001b[0m\n",
      "\u001b[1m[\u001b[0m\u001b[34;49mnotice\u001b[0m\u001b[1;39;49m]\u001b[0m\u001b[39;49m To update, run: \u001b[0m\u001b[32;49mpip install --upgrade pip\u001b[0m\n",
      "Note: you may need to restart the kernel to use updated packages.\n"
     ]
    }
   ],
   "source": [
    "%pip install berserk\n"
   ]
  },
  {
   "cell_type": "code",
   "execution_count": 22,
   "id": "4babb7bf",
   "metadata": {},
   "outputs": [
    {
     "data": {
      "text/plain": [
       "'\\nAdditional Documentation that can be helpful for this project-\\n# client.users.get_rating_history(mishka_the_great)\\nclient.users.get_puzzle_activity()\\n\\n'"
      ]
     },
     "execution_count": 22,
     "metadata": {},
     "output_type": "execute_result"
    }
   ],
   "source": [
    "#Lichess API\n",
    "import berserk\n",
    "#private key\n",
    "from lichess_secret import token\n",
    "session = berserk.TokenSession(token)\n",
    "client = berserk.Client(session=session)\n",
    "\n",
    "# # Get games from GM.\n",
    "# games = client.games.export_by_player('mishka_the_great', max = 5)\n",
    "# for game in games:\n",
    "#     # White player details\n",
    "#     print(f\"White: {game['players']['white']['user']['name']} (Rating: {game['players']['white']['rating']})\")\n",
    "    \n",
    "#     # Black player details\n",
    "#     print(f\"Black: {game['players']['black']['user']['name']} (Rating: {game['players']['black']['rating']})\")\n",
    "    \n",
    "#     # Opening details\n",
    "#     # Lichess has having issues with loading in the opening, so I put in this if statement.\n",
    "#     if 'opening' in game:\n",
    "#         print(f\"Opening: {game['opening']['name']}\")\n",
    "#     else:\n",
    "#         print(\"Opening: Unknown\")\n",
    "    \n",
    "#     # Result (check if 'winner' key exists)\n",
    "#     winner = game.get('winner', 'draw')  # If there's no 'winner', it will default to 'draw'\n",
    "#     print(f\"Result: {winner}\")\n",
    "    \n",
    "#     # Movecount\n",
    "#     print(f\"Moves: {game['moves']}\")\n",
    "    \n",
    "#     # Link to the game\n",
    "#     print(f\"Link: https://lichess.org/{game['id']}\")\n",
    "#     # cleans up data\n",
    "#     print('_' * 500)\n",
    "\n",
    "# client.users.get_leaderboard()\n",
    "client.account.get()\n",
    "client.users.get_leaderboard('blitz', count=11)\n",
    "\n",
    "\n",
    "\"\"\"\n",
    "Additional Documentation that can be helpful for this project-\n",
    "# client.users.get_rating_history(mishka_the_great)\n",
    "client.users.get_puzzle_activity()\n",
    "\n",
    "\"\"\""
   ]
  },
  {
   "cell_type": "markdown",
   "id": "30c4ee3e-875b-40af-a136-2cf7f5983e7f",
   "metadata": {},
   "source": [
    "### Data Usage and Remaining Issues\n",
    "\n",
    "\n",
    "The data set is mostly clean but contains some minor issues, such as missing opening names in most games. The opening is important because it could help me determine the aggressive/possitional players and give me information about the opening winrates. This could be addressed by using StockFish API or Chess-opening-explorer API. Thereafter I would need to group similar openings like the King’s Pawn or Queen’s Gambit to simplify analysis. \n",
    "To complete the project, I can apply supervised machine learning for categorizing (estimating the game result) or for polynomial regression (estimating the number of moves).\n"
   ]
  },
  {
   "cell_type": "markdown",
   "id": "2feb427a",
   "metadata": {},
   "source": [
    "Make a complete dataframe. I want to able to do Visualization of win percentages based on openings used, subplot based on rating categories (eg how well does each opening work for players in different categories of skill level) (bar plot) (Andrew)\n",
    "\n",
    "\n",
    "My dataframe should be complete.\n",
    "\n",
    "\n",
    "I need to obtain the data from Lichess and build a complete dataframe, using Stockfish API or anyother API to determine what type of opening is used"
   ]
  }
 ],
 "metadata": {
  "kernelspec": {
   "display_name": "Python 3 (ipykernel)",
   "language": "python",
   "name": "python3"
  },
  "language_info": {
   "codemirror_mode": {
    "name": "ipython",
    "version": 3
   },
   "file_extension": ".py",
   "mimetype": "text/x-python",
   "name": "python",
   "nbconvert_exporter": "python",
   "pygments_lexer": "ipython3",
   "version": "3.12.3"
  }
 },
 "nbformat": 4,
 "nbformat_minor": 5
}
